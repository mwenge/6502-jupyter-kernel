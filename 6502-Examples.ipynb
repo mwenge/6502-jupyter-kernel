{
 "cells": [
  {
   "cell_type": "markdown",
   "metadata": {},
   "source": [
    "# Example 6502 Assembly Notebook"
   ]
  },
  {
   "cell_type": "markdown",
   "metadata": {},
   "source": [
    "This is a quick guide to using 6502 Assembly in your Jupyter Notebooks.\n",
    "\n",
    "The syntax we use here is that compatible with [`64tass`](https://tass64.sourceforge.net/).\n",
    "\n",
    "If you want to find out more about the program used to emulate 6502 CPU execution, take a look at [this very interesting article](https://justine.lol/nesemu1.html) about Joel Yliluoma's emulator. Or marvel at the [source code](little_6502_emu.cc), which I have only lightly franken-patched to make work here."
   ]
  },
  {
   "cell_type": "markdown",
   "metadata": {},
   "source": [
    "## A Simple Example"
   ]
  },
  {
   "cell_type": "markdown",
   "metadata": {},
   "source": [
    "Starting with something simple. Let's load `01` into the `A` register and store it in the `zeropage` address `$03`"
   ]
  },
  {
   "cell_type": "code",
   "execution_count": 10,
   "metadata": {},
   "outputs": [
    {
     "name": "stdout",
     "output_type": "stream",
     "text": [
      "CPU Register Legend:                                   \n",
      "C = Carry,    Z = Zero, I = Interrupt, D = Decimal Mode\n",
      "V = Overflow, N = Negative                             \n",
      "                                                       \n",
      "Execution History (Values are after execution.)        \n",
      "                                                       \n",
      "                       | CPU Register | Program           \n",
      "Instruction |  A  X  Y | C Z I D V N  | Counter           \n",
      "----------- | -- -- -- | -----------  | -------           \n",
      "LDA #0001   | 01 00 00 | 0 0 0 0 0 0  | 049154 \n",
      "STA $0003   | 01 00 00 | 0 0 0 0 0 0  | 049156 \n",
      "BRK         | 01 00 00 | 0 0 1 0 0 0  | 000000 \n",
      "                                                       \n",
      "First 256 Bytes of Zero Page After Execution Completed \n",
      "                                                       \n",
      "    00 01 02 03 04 05 06 07 08 09 0A 0B 0C 0D 0E 0F    \n",
      "    -- -- -- -- -- -- -- -- -- -- -- -- -- -- -- --    \n",
      "00 |00 00 00 01 FF FF FF FF 00 00 00 00 FF FF FF FF \n",
      "01 |00 00 00 00 FF FF FF FF 00 00 00 00 FF FF FF FF \n",
      "02 |00 00 00 00 FF FF FF FF 00 00 00 00 FF FF FF FF \n",
      "03 |00 00 00 00 FF FF FF FF 00 00 00 00 FF FF FF FF \n",
      "04 |00 00 00 00 FF FF FF FF 00 00 00 00 FF FF FF FF \n",
      "05 |00 00 00 00 FF FF FF FF 00 00 00 00 FF FF FF FF \n",
      "06 |00 00 00 00 FF FF FF FF 00 00 00 00 FF FF FF FF \n",
      "07 |00 00 00 00 FF FF FF FF 00 00 00 00 FF FF FF FF \n",
      "08 |00 00 00 00 FF FF FF FF 00 00 00 00 FF FF FF FF \n",
      "09 |00 00 00 00 FF FF FF FF 00 00 00 00 FF FF FF FF \n",
      "0A |00 00 00 00 FF FF FF FF 00 00 00 00 FF FF FF FF \n",
      "0B |00 00 00 00 FF FF FF FF 00 00 00 00 FF FF FF FF \n",
      "0C |00 00 00 00 FF FF FF FF 00 00 00 00 FF FF FF FF \n",
      "0D |00 00 00 00 FF FF FF FF 00 00 00 00 FF FF FF FF \n",
      "0E |00 00 00 00 FF FF FF FF 00 00 00 00 FF FF FF FF \n",
      "0F |00 00 00 00 FF FF FF FF 00 00 00 00 FF FF FF FF \n"
     ]
    }
   ],
   "source": [
    "LDA #$01  ; Load the value $01 to A\n",
    "STA $03   ; Store it at $03"
   ]
  },
  {
   "attachments": {},
   "cell_type": "markdown",
   "metadata": {},
   "source": [
    "### [What's all that about Ted?](https://www.youtube.com/watch?v=V_WUeqlZ5eE)"
   ]
  },
  {
   "cell_type": "markdown",
   "metadata": {},
   "source": [
    "We get a lot of output! Let's break down what it all means.\n",
    "\n",
    "The main meat is an execution history of our instructions:\n",
    "```\n",
    "                       | CPU Register | Program           \n",
    "Instruction |  A  X  Y | C Z I D V N  | Counter           \n",
    "----------- | -- -- -- | -----------  | -------           \n",
    "LDA #0001   | 01 00 00 | 0 0 0 0 0 0  | 049154 \n",
    "STA $0003   | 01 00 00 | 0 0 0 0 0 0  | 049156 \n",
    "BRK         | 01 00 00 | 0 0 1 0 0 0  | 000000 \n",
    "```\n",
    "\n",
    "The first row shows our `LDA #$01` instruction being executed and the state of the registers afterwards. As you can see `01` has been loaded to the `A` register as expected:\n",
    "\n",
    "```\n",
    "Instruction |  A  X  Y | C Z I D V N  | Counter           \n",
    "----------- | -- -- -- | -----------  | -------           \n",
    "LDA #0001   | 01 00 00 | 0 0 0 0 0 0  | 049154 \n",
    "```\n",
    "\n",
    "Next, we store the value at address `$03` in the 'Zero Page` area of memory:\n",
    "\n",
    "```\n",
    "Instruction |  A  X  Y | C Z I D V N  | Counter           \n",
    "----------- | -- -- -- | -----------  | -------           \n",
    "STA $0003   | 01 00 00 | 0 0 0 0 0 0  | 049156 \n",
    "```\n",
    "\n",
    "When the assembly snippet finishes executing we get a dump of the first 256 bytes of zero-page memory. And in there we can see the `$01` we wrote to position `$03`:\n",
    "\n",
    "```\n",
    "First 256 Bytes of Zero Page After Execution Completed \n",
    "                                                       \n",
    "    00 01 02 03 04 05 06 07 08 09 0A 0B 0C 0D 0E 0F    \n",
    "    -- -- -- -- -- -- -- -- -- -- -- -- -- -- -- --    \n",
    "00 |00 00 00 01 FF FF FF FF 00 00 00 00 FF FF FF FF \n",
    "```\n",
    "\n",
    "So this exemplifies our basic usage pattern for 6502 ASM notebooks. We can use zero-page RAM as our 'output' and at the same time observe the state of the registers after the execution of each of our instructions. \n",
    "\n",
    "This hopefully makes Jupyter a useful REPL (Read, Eval, Print Loop) for prototyping 6502 assembly routines. \n",
    "\n",
    "Let's take a look at a more involved example."
   ]
  },
  {
   "cell_type": "markdown",
   "metadata": {},
   "source": [
    "## A More Involved Example"
   ]
  },
  {
   "cell_type": "markdown",
   "metadata": {},
   "source": [
    "In this example we'll doing something a little more elaborate. We'll fill up the first 16 bytes of the zero page area with the value `$20`. Important stuff."
   ]
  },
  {
   "cell_type": "code",
   "execution_count": 16,
   "metadata": {},
   "outputs": [
    {
     "name": "stdout",
     "output_type": "stream",
     "text": [
      "CPU Register Legend:                                   \n",
      "C = Carry,    Z = Zero, I = Interrupt, D = Decimal Mode\n",
      "V = Overflow, N = Negative                             \n",
      "                                                       \n",
      "Execution History (Values are after execution.)        \n",
      "                                                       \n",
      "                       | CPU Register | Program           \n",
      "Instruction |  A  X  Y | C Z I D V N  | Counter           \n",
      "----------- | -- -- -- | -----------  | -------           \n",
      "LDX #0010   | 00 10 00 | 0 0 0 0 0 0  | 049154 \n",
      "LDA #0020   | 20 10 00 | 0 0 0 0 0 0  | 049156 \n",
      "STA $0000   | 20 10 00 | 0 0 0 0 0 0  | 049158 \n",
      "DEX         | 20 0F 00 | 0 0 0 0 0 0  | 049159 \n",
      "BNE $00fb   | 20 0F 00 | 0 0 0 0 0 0  | 049156 \n",
      "STA $0000   | 20 0F 00 | 0 0 0 0 0 0  | 049158 \n",
      "DEX         | 20 0E 00 | 0 0 0 0 0 0  | 049159 \n",
      "BNE $00fb   | 20 0E 00 | 0 0 0 0 0 0  | 049156 \n",
      "STA $0000   | 20 0E 00 | 0 0 0 0 0 0  | 049158 \n",
      "DEX         | 20 0D 00 | 0 0 0 0 0 0  | 049159 \n",
      "BNE $00fb   | 20 0D 00 | 0 0 0 0 0 0  | 049156 \n",
      "STA $0000   | 20 0D 00 | 0 0 0 0 0 0  | 049158 \n",
      "DEX         | 20 0C 00 | 0 0 0 0 0 0  | 049159 \n",
      "BNE $00fb   | 20 0C 00 | 0 0 0 0 0 0  | 049156 \n",
      "STA $0000   | 20 0C 00 | 0 0 0 0 0 0  | 049158 \n",
      "DEX         | 20 0B 00 | 0 0 0 0 0 0  | 049159 \n",
      "BNE $00fb   | 20 0B 00 | 0 0 0 0 0 0  | 049156 \n",
      "STA $0000   | 20 0B 00 | 0 0 0 0 0 0  | 049158 \n",
      "DEX         | 20 0A 00 | 0 0 0 0 0 0  | 049159 \n",
      "BNE $00fb   | 20 0A 00 | 0 0 0 0 0 0  | 049156 \n",
      "STA $0000   | 20 0A 00 | 0 0 0 0 0 0  | 049158 \n",
      "DEX         | 20 09 00 | 0 0 0 0 0 0  | 049159 \n",
      "BNE $00fb   | 20 09 00 | 0 0 0 0 0 0  | 049156 \n",
      "STA $0000   | 20 09 00 | 0 0 0 0 0 0  | 049158 \n",
      "DEX         | 20 08 00 | 0 0 0 0 0 0  | 049159 \n",
      "BNE $00fb   | 20 08 00 | 0 0 0 0 0 0  | 049156 \n",
      "STA $0000   | 20 08 00 | 0 0 0 0 0 0  | 049158 \n",
      "DEX         | 20 07 00 | 0 0 0 0 0 0  | 049159 \n",
      "BNE $00fb   | 20 07 00 | 0 0 0 0 0 0  | 049156 \n",
      "STA $0000   | 20 07 00 | 0 0 0 0 0 0  | 049158 \n",
      "DEX         | 20 06 00 | 0 0 0 0 0 0  | 049159 \n",
      "BNE $00fb   | 20 06 00 | 0 0 0 0 0 0  | 049156 \n",
      "STA $0000   | 20 06 00 | 0 0 0 0 0 0  | 049158 \n",
      "DEX         | 20 05 00 | 0 0 0 0 0 0  | 049159 \n",
      "BNE $00fb   | 20 05 00 | 0 0 0 0 0 0  | 049156 \n",
      "STA $0000   | 20 05 00 | 0 0 0 0 0 0  | 049158 \n",
      "DEX         | 20 04 00 | 0 0 0 0 0 0  | 049159 \n",
      "BNE $00fb   | 20 04 00 | 0 0 0 0 0 0  | 049156 \n",
      "STA $0000   | 20 04 00 | 0 0 0 0 0 0  | 049158 \n",
      "DEX         | 20 03 00 | 0 0 0 0 0 0  | 049159 \n",
      "BNE $00fb   | 20 03 00 | 0 0 0 0 0 0  | 049156 \n",
      "STA $0000   | 20 03 00 | 0 0 0 0 0 0  | 049158 \n",
      "DEX         | 20 02 00 | 0 0 0 0 0 0  | 049159 \n",
      "BNE $00fb   | 20 02 00 | 0 0 0 0 0 0  | 049156 \n",
      "STA $0000   | 20 02 00 | 0 0 0 0 0 0  | 049158 \n",
      "DEX         | 20 01 00 | 0 0 0 0 0 0  | 049159 \n",
      "BNE $00fb   | 20 01 00 | 0 0 0 0 0 0  | 049156 \n",
      "STA $0000   | 20 01 00 | 0 0 0 0 0 0  | 049158 \n",
      "DEX         | 20 00 00 | 0 1 0 0 0 0  | 049159 \n",
      "BNE $00fb   | 20 00 00 | 0 1 0 0 0 0  | 049161 \n",
      "RTS         | 20 00 00 | 0 1 0 0 0 0  | 000001 \n",
      "JSR $2020   | 20 00 00 | 0 1 0 0 0 0  | 008224 \n",
      "BRK         | 20 00 00 | 0 1 1 0 0 0  | 000000 \n",
      "                                                       \n",
      "First 256 Bytes of Zero Page After Execution Completed \n",
      "                                                       \n",
      "    00 01 02 03 04 05 06 07 08 09 0A 0B 0C 0D 0E 0F    \n",
      "    -- -- -- -- -- -- -- -- -- -- -- -- -- -- -- --    \n",
      "00 |00 20 20 20 20 20 20 20 20 20 20 20 20 20 20 20 \n",
      "01 |20 00 00 00 FF FF FF FF 00 00 00 00 FF FF FF FF \n",
      "02 |00 00 00 00 FF FF FF FF 00 00 00 00 FF FF FF FF \n",
      "03 |00 00 00 00 FF FF FF FF 00 00 00 00 FF FF FF FF \n",
      "04 |00 00 00 00 FF FF FF FF 00 00 00 00 FF FF FF FF \n",
      "05 |00 00 00 00 FF FF FF FF 00 00 00 00 FF FF FF FF \n",
      "06 |00 00 00 00 FF FF FF FF 00 00 00 00 FF FF FF FF \n",
      "07 |00 00 00 00 FF FF FF FF 00 00 00 00 FF FF FF FF \n",
      "08 |00 00 00 00 FF FF FF FF 00 00 00 00 FF FF FF FF \n",
      "09 |00 00 00 00 FF FF FF FF 00 00 00 00 FF FF FF FF \n",
      "0A |00 00 00 00 FF FF FF FF 00 00 00 00 FF FF FF FF \n",
      "0B |00 00 00 00 FF FF FF FF 00 00 00 00 FF FF FF FF \n",
      "0C |00 00 00 00 FF FF FF FF 00 00 00 00 FF FF FF FF \n",
      "0D |00 00 00 00 FF FF FF FF 00 00 00 00 FF FF FF FF \n",
      "0E |00 00 00 00 FF FF FF FF 00 00 00 00 FF FF FF FF \n",
      "0F |00 00 00 00 FF FF FF FF 00 00 00 00 FF FF FF FF \n"
     ]
    }
   ],
   "source": [
    "ZERO_PAGE = $00\n",
    ";---------------------------------------\n",
    "; A routine to fill the first 16 bytes\n",
    "; of zero page with $20\n",
    ";---------------------------------------\n",
    "FillZeroPage\n",
    "        LDX #$10\n",
    "        LDA #$20\n",
    "_Loop   STA ZERO_PAGE,X\n",
    "        DEX\n",
    "        BNE _Loop\n",
    "        RTS\n",
    "\n",
    "; We call our routine\n",
    "JSR FillZeroPage"
   ]
  }
 ],
 "metadata": {
  "kernelspec": {
   "display_name": "6502",
   "language": "asm",
   "name": "asm"
  },
  "language_info": {
   "file_extension": ".s",
   "mimetype": "text/x-gas",
   "name": "gas"
  }
 },
 "nbformat": 4,
 "nbformat_minor": 4
}
