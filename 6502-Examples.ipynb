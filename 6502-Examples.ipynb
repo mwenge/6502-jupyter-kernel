{
 "cells": [
  {
   "cell_type": "code",
   "execution_count": 1,
   "metadata": {},
   "outputs": [
    {
     "name": "stdout",
     "output_type": "stream",
     "text": [
      "C = Carry,    Z = Zero, I = Interrupt, D = Decimal Mode\n",
      "V = Overflow, N = Negative                             \n",
      "                                                       \n",
      "            |       | CPU Register | Program           \n",
      "Instruction | A X Y | C Z I D V N  | Counter           \n",
      "----------- | ----- | -----------  | -------           \n",
      "LDA $0001   | 1 0 0 | 0 0 0 0 0 0  | 049154 \n",
      "STA $0003   | 1 0 0 | 0 0 0 0 0 0  | 049156 \n",
      "BRK         | 1 0 0 | 0 0 1 0 0 0  | 000000 \n",
      "00 00 00 01 ff ff ff ff 00 00 00 00 ff ff ff ff \n"
     ]
    }
   ],
   "source": [
    "LDA #$01\n",
    "STA $03"
   ]
  }
 ],
 "metadata": {
  "kernelspec": {
   "display_name": "6502",
   "language": "asm",
   "name": "asm"
  },
  "language_info": {
   "file_extension": ".s",
   "mimetype": "text/plain",
   "name": "asm"
  }
 },
 "nbformat": 4,
 "nbformat_minor": 4
}
